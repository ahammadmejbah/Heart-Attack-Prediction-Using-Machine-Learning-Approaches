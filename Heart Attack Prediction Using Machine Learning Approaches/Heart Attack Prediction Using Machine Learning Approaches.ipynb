{
  "cells": [
    {
      "attachments": {},
      "cell_type": "markdown",
      "id": "586110d3",
      "metadata": {
        "id": "586110d3"
      },
      "source": [
        "## Project Name: Heart Attack Prediction Using Machine Learning Approaches"
      ]
    },
    {
      "attachments": {},
      "cell_type": "markdown",
      "id": "6b2d7be0",
      "metadata": {
        "id": "6b2d7be0"
      },
      "source": [
        "Improving people's ability to detect the early warning signals of a heart attack is one of the most important factors in the process of reducing death rates throughout the world. The study of the clinical data takes into account a very important condition known as cardiovascular disease. When it comes to making an accurate forecast, this condition is one of the most important factors that needs to be taken into consideration first. It has the potential to be of tremendous use to medical practitioners to be able to forecast heart attacks using data science and machine learning (ML). It is feasible to take into account a number of different risk variables all at once while conducting an investigation of this kind. Diabetes, high blood pressure, and irregular pulse rhythms are just examples of the risk factors that might contribute to heart disease. The purpose of this study is to improve the accuracy of diagnosis for cardiac illnesses via the use of machine learning to its greatest potential and to its fullest potential."
      ]
    },
    {
      "cell_type": "markdown",
      "id": "6df5fab5",
      "metadata": {
        "id": "6df5fab5"
      },
      "source": [
        "### We will do the following things:\n",
        "- Data Analysis \n",
        "- Feature Engineering \n",
        "- Satandardization\n",
        "- Model Building\n",
        "- Predictions"
      ]
    },
    {
      "cell_type": "markdown",
      "id": "08b96f4d",
      "metadata": {
        "id": "08b96f4d"
      },
      "source": [
        "### Let us import the necessary liabraries and read our DataSet"
      ]
    },
    {
      "cell_type": "code",
      "execution_count": null,
      "id": "f72300d8",
      "metadata": {
        "id": "f72300d8"
      },
      "outputs": [],
      "source": [
        "import pandas as pd\n",
        "import numpy as np\n",
        "import seaborn as sns\n",
        "import matplotlib.pyplot as plt\n",
        "%matplotlib inline"
      ]
    },
    {
      "cell_type": "markdown",
      "id": "5CXI4si_IxVf",
      "metadata": {
        "id": "5CXI4si_IxVf"
      },
      "source": [
        "Let us import our Data Set\n"
      ]
    },
    {
      "cell_type": "code",
      "execution_count": null,
      "id": "e6cb5e53",
      "metadata": {
        "id": "e6cb5e53"
      },
      "outputs": [],
      "source": [
        "df= pd.read_csv(\"heart.csv\")"
      ]
    },
    {
      "cell_type": "code",
      "execution_count": null,
      "id": "1349056e",
      "metadata": {
        "id": "1349056e"
      },
      "outputs": [],
      "source": [
        "df= df.drop(['oldpeak','slp','thall'],axis=1)"
      ]
    },
    {
      "cell_type": "code",
      "execution_count": null,
      "id": "d9fde664",
      "metadata": {
        "colab": {
          "base_uri": "https://localhost:8080/",
          "height": 203
        },
        "id": "d9fde664",
        "outputId": "95b17ffa-b055-402a-c9ba-5a31d9d9e983"
      },
      "outputs": [],
      "source": [
        "df.head()"
      ]
    },
    {
      "cell_type": "markdown",
      "id": "4cb8b4ce",
      "metadata": {
        "id": "4cb8b4ce"
      },
      "source": [
        "### Data Analysis"
      ]
    },
    {
      "attachments": {},
      "cell_type": "markdown",
      "id": "472de7e9",
      "metadata": {
        "id": "472de7e9"
      },
      "source": [
        "### Attribute Information\n",
        "* Age: age of the patient [years]\n",
        "8 Sex: sex of the patient [M: Male, F: Female]\n",
        "* ChestPainType: chest pain type [TA: Typical Angina, ATA: Atypical Angina, NAP: Non-Anginal Pain, ASY: Asymptomatic]\n",
        "* RestingBP: resting blood pressure [mm Hg]\n",
        "* Cholesterol: serum cholesterol [mm/dl]\n",
        "* FastingBS: fasting blood sugar [1: if FastingBS > 120 mg/dl, 0: otherwise]\n",
        "* RestingECG: resting electrocardiogram results [Normal: Normal, ST: having ST-T wave abnormality (T wave inversions and/or ST elevation or depression of > 0.05 mV), LVH: * showing probable or definite left ventricular hypertrophy by Estes' criteria]\n",
        "* MaxHR: maximum heart rate achieved [Numeric value between 60 and 202]\n",
        "* ExerciseAngina: exercise-induced angina [Y: Yes, N: No]\n",
        "* Oldpeak: oldpeak = ST [Numeric value measured in depression]\n",
        "* ST_Slope: the slope of the peak exercise ST segment [Up: upsloping, Flat: flat, Down: downsloping]\n",
        "* HeartDisease: output class [1: heart disease, 0: Normal]"
      ]
    },
    {
      "cell_type": "code",
      "execution_count": null,
      "id": "0698754a",
      "metadata": {
        "colab": {
          "base_uri": "https://localhost:8080/"
        },
        "id": "0698754a",
        "outputId": "4624ebed-24c0-4e09-8cd2-1fac140a8b85"
      },
      "outputs": [],
      "source": [
        "df.shape"
      ]
    },
    {
      "cell_type": "code",
      "execution_count": null,
      "id": "52f8abdf",
      "metadata": {
        "colab": {
          "base_uri": "https://localhost:8080/"
        },
        "id": "52f8abdf",
        "outputId": "53eea747-11e7-41b3-dfe3-e14be428a795"
      },
      "outputs": [],
      "source": [
        "df.isnull().sum()"
      ]
    },
    {
      "cell_type": "markdown",
      "id": "a6f052bc",
      "metadata": {
        "id": "a6f052bc"
      },
      "source": [
        "#### As we can see there are no null values in our Data Set"
      ]
    },
    {
      "cell_type": "code",
      "execution_count": null,
      "id": "694f1482",
      "metadata": {
        "colab": {
          "base_uri": "https://localhost:8080/",
          "height": 388
        },
        "id": "694f1482",
        "outputId": "80644f8a-b63d-45ce-c70c-23182b08663a"
      },
      "outputs": [],
      "source": [
        "df.corr()"
      ]
    },
    {
      "cell_type": "code",
      "execution_count": null,
      "id": "c5f26e03",
      "metadata": {
        "colab": {
          "base_uri": "https://localhost:8080/",
          "height": 320
        },
        "id": "c5f26e03",
        "outputId": "951191ed-65e7-4e34-873a-90f9beb2fce9"
      },
      "outputs": [],
      "source": [
        "sns.heatmap(df.corr())"
      ]
    },
    {
      "cell_type": "markdown",
      "id": "ba18baf7",
      "metadata": {
        "id": "ba18baf7"
      },
      "source": [
        "#### As we can see our variables are not highly correlated to each other "
      ]
    },
    {
      "cell_type": "markdown",
      "id": "e803c86f",
      "metadata": {
        "id": "e803c86f"
      },
      "source": [
        "#### We will do Uni and Bi variate analysis on our Features"
      ]
    },
    {
      "cell_type": "code",
      "execution_count": null,
      "id": "ad608f85",
      "metadata": {
        "colab": {
          "base_uri": "https://localhost:8080/",
          "height": 638
        },
        "id": "ad608f85",
        "outputId": "33e7723b-59d3-4739-8f0a-ec9d930e111e"
      },
      "outputs": [],
      "source": [
        "\n",
        "plt.figure(figsize=(20, 10))\n",
        "plt.title(\"Age of Patients\")\n",
        "plt.xlabel(\"Age\")\n",
        "sns.countplot(x='age',data=df)"
      ]
    },
    {
      "cell_type": "markdown",
      "id": "109a21cd",
      "metadata": {
        "id": "109a21cd"
      },
      "source": [
        "#### As we can see the Patients are of Age Group 51-67years in majority"
      ]
    },
    {
      "cell_type": "code",
      "execution_count": null,
      "id": "ccf1760c",
      "metadata": {
        "colab": {
          "base_uri": "https://localhost:8080/",
          "height": 638
        },
        "id": "ccf1760c",
        "outputId": "47a83ba3-62f5-46a1-d89b-b0b042de490e"
      },
      "outputs": [],
      "source": [
        "plt.figure(figsize=(20, 10))\n",
        "plt.title(\"Sex of Patients,0=Female and 1=Male\")\n",
        "\n",
        "sns.countplot(x='sex',data=df)"
      ]
    },
    {
      "cell_type": "code",
      "execution_count": null,
      "id": "15918288",
      "metadata": {
        "colab": {
          "base_uri": "https://localhost:8080/",
          "height": 424
        },
        "id": "15918288",
        "outputId": "21a60d94-2569-472c-a138-fabf4b8658a9"
      },
      "outputs": [],
      "source": [
        "cp_data= df['cp'].value_counts().reset_index()\n",
        "cp_data['index'][3]= 'asymptomatic'\n",
        "cp_data['index'][2]= 'non-anginal'\n",
        "cp_data['index'][1]= 'Atyppical Anigma'\n",
        "cp_data['index'][0]= 'Typical Anigma'\n",
        "cp_data"
      ]
    },
    {
      "cell_type": "code",
      "execution_count": null,
      "id": "ec3f30f3",
      "metadata": {
        "colab": {
          "base_uri": "https://localhost:8080/",
          "height": 638
        },
        "id": "ec3f30f3",
        "outputId": "f9790d1f-942f-41f7-fb12-22d835fc3781"
      },
      "outputs": [],
      "source": [
        "plt.figure(figsize=(20, 10))\n",
        "plt.title(\"Chest Pain of Patients\")\n",
        "\n",
        "sns.barplot(x=cp_data['index'],y= cp_data['cp'])"
      ]
    },
    {
      "cell_type": "markdown",
      "id": "4f5e6a02",
      "metadata": {
        "id": "4f5e6a02"
      },
      "source": [
        "#### We have seen how the the Chest Pain Category is distributed"
      ]
    },
    {
      "cell_type": "code",
      "execution_count": null,
      "id": "bc63868c",
      "metadata": {
        "colab": {
          "base_uri": "https://localhost:8080/",
          "height": 310
        },
        "id": "bc63868c",
        "outputId": "1a12cefd-998a-415c-cfb6-f2659f91fb25"
      },
      "outputs": [],
      "source": [
        "ecg_data= df['restecg'].value_counts().reset_index()\n",
        "ecg_data['index'][0]= 'normal'\n",
        "ecg_data['index'][1]= 'having ST-T wave abnormality'\n",
        "ecg_data['index'][2]= 'showing probable or definite left ventricular hypertrophy by Estes'\n",
        "\n",
        "ecg_data"
      ]
    },
    {
      "cell_type": "code",
      "execution_count": null,
      "id": "952546df",
      "metadata": {
        "colab": {
          "base_uri": "https://localhost:8080/",
          "height": 638
        },
        "id": "952546df",
        "outputId": "2b9f99a5-75fc-4c49-d40f-6260cf9bc919"
      },
      "outputs": [],
      "source": [
        "plt.figure(figsize=(20, 10))\n",
        "plt.title(\"ECG data of Patients\")\n",
        "\n",
        "sns.barplot(x=ecg_data['index'],y= ecg_data['restecg'])"
      ]
    },
    {
      "cell_type": "markdown",
      "id": "dbd88902",
      "metadata": {
        "id": "dbd88902"
      },
      "source": [
        "#### This is our ECG Data "
      ]
    },
    {
      "cell_type": "code",
      "execution_count": null,
      "id": "d2729fa6",
      "metadata": {
        "colab": {
          "base_uri": "https://localhost:8080/",
          "height": 1000
        },
        "id": "d2729fa6",
        "outputId": "889d7ee7-8280-4c4e-b4db-20c1ae94a579"
      },
      "outputs": [],
      "source": [
        "sns.pairplot(df,hue='output',data=df)"
      ]
    },
    {
      "cell_type": "markdown",
      "id": "33824ea2",
      "metadata": {
        "id": "33824ea2"
      },
      "source": [
        "### Let us see for our Continuous Variable"
      ]
    },
    {
      "cell_type": "code",
      "execution_count": null,
      "id": "443e8fa2",
      "metadata": {
        "colab": {
          "base_uri": "https://localhost:8080/",
          "height": 710
        },
        "id": "443e8fa2",
        "outputId": "68fb3b0a-1a01-4f94-c2fa-71692efbe289"
      },
      "outputs": [],
      "source": [
        "plt.figure(figsize=(20,10))\n",
        "plt.subplot(1,2,1)\n",
        "sns.distplot(df['trtbps'], kde=True, color = 'magenta')\n",
        "plt.xlabel(\"Resting Blood Pressure (mmHg)\")\n",
        "plt.subplot(1,2,2)\n",
        "sns.distplot(df['thalachh'], kde=True, color = 'teal')\n",
        "plt.xlabel(\"Maximum Heart Rate Achieved (bpm)\")"
      ]
    },
    {
      "cell_type": "code",
      "execution_count": null,
      "id": "518bd367",
      "metadata": {
        "id": "518bd367",
        "outputId": "2c573d71-2318-4789-e1a9-a3f1eb3089cb"
      },
      "outputs": [],
      "source": [
        "plt.figure(figsize=(10,10))\n",
        "sns.distplot(df['chol'], kde=True, color = 'red')\n",
        "plt.xlabel(\"Cholestrol\")"
      ]
    },
    {
      "cell_type": "markdown",
      "id": "97d4b41f",
      "metadata": {
        "id": "97d4b41f"
      },
      "source": [
        "#### We have done the Analysis of the data now let's have a look at out data"
      ]
    },
    {
      "cell_type": "code",
      "execution_count": null,
      "id": "75b7813d",
      "metadata": {
        "colab": {
          "base_uri": "https://localhost:8080/",
          "height": 203
        },
        "id": "75b7813d",
        "outputId": "56528a53-4294-47de-84af-9f97e6592910"
      },
      "outputs": [],
      "source": [
        "df.head()"
      ]
    },
    {
      "cell_type": "markdown",
      "id": "bfcbd7fd",
      "metadata": {
        "id": "bfcbd7fd"
      },
      "source": [
        "### Let us do Standardisation"
      ]
    },
    {
      "cell_type": "code",
      "execution_count": null,
      "id": "d6b97947",
      "metadata": {
        "id": "d6b97947"
      },
      "outputs": [],
      "source": [
        "from sklearn.preprocessing import StandardScaler"
      ]
    },
    {
      "cell_type": "code",
      "execution_count": null,
      "id": "2e12e343",
      "metadata": {
        "id": "2e12e343"
      },
      "outputs": [],
      "source": [
        "scale=StandardScaler()"
      ]
    },
    {
      "cell_type": "code",
      "execution_count": null,
      "id": "cc1cc92a",
      "metadata": {
        "colab": {
          "base_uri": "https://localhost:8080/"
        },
        "id": "cc1cc92a",
        "outputId": "3c0e5f1f-89d9-4566-b7de-2d907c9077ad"
      },
      "outputs": [],
      "source": [
        "scale.fit(df)"
      ]
    },
    {
      "cell_type": "code",
      "execution_count": null,
      "id": "f68a5733",
      "metadata": {
        "id": "f68a5733"
      },
      "outputs": [],
      "source": [
        "df= scale.transform(df)"
      ]
    },
    {
      "cell_type": "code",
      "execution_count": null,
      "id": "9f317d38",
      "metadata": {
        "id": "9f317d38"
      },
      "outputs": [],
      "source": [
        "df=pd.DataFrame(df,columns=['age', 'sex', 'cp', 'trtbps', 'chol', 'fbs', 'restecg', 'thalachh',\n",
        "       'exng', 'caa', 'output'])"
      ]
    },
    {
      "cell_type": "code",
      "execution_count": null,
      "id": "0e9b06a0",
      "metadata": {
        "colab": {
          "base_uri": "https://localhost:8080/",
          "height": 203
        },
        "id": "0e9b06a0",
        "outputId": "493331e0-8f94-4ff4-ddbd-b3607e894447"
      },
      "outputs": [],
      "source": [
        "df.head()"
      ]
    },
    {
      "cell_type": "markdown",
      "id": "6fd43730",
      "metadata": {
        "id": "6fd43730"
      },
      "source": [
        "### We can insert this data into our ML Models"
      ]
    },
    {
      "cell_type": "markdown",
      "id": "0147cea1",
      "metadata": {
        "id": "0147cea1"
      },
      "source": [
        "### We will use the following models for our predictions :\n",
        "- Logistic Regression\n",
        "- Decision Tree\n",
        "- Random Forest\n",
        "- K Nearest Neighbour\n",
        "- SVM"
      ]
    },
    {
      "cell_type": "markdown",
      "id": "963be798",
      "metadata": {
        "id": "963be798"
      },
      "source": [
        "#### Then we will use the ensembling techniques"
      ]
    },
    {
      "cell_type": "markdown",
      "id": "fad2b3a9",
      "metadata": {
        "id": "fad2b3a9"
      },
      "source": [
        "#### Let us split our data"
      ]
    },
    {
      "cell_type": "code",
      "execution_count": null,
      "id": "3cd4472e",
      "metadata": {
        "colab": {
          "base_uri": "https://localhost:8080/",
          "height": 417
        },
        "id": "3cd4472e",
        "outputId": "e273cdc4-2704-40f3-f666-1f4b760e7d65",
        "scrolled": true
      },
      "outputs": [],
      "source": [
        "x= df.iloc[:,:-1]\n",
        "x"
      ]
    },
    {
      "cell_type": "code",
      "execution_count": null,
      "id": "9e74c14d",
      "metadata": {
        "colab": {
          "base_uri": "https://localhost:8080/",
          "height": 417
        },
        "id": "9e74c14d",
        "outputId": "2cb5766e-32ea-47d4-c602-09fc09223983"
      },
      "outputs": [],
      "source": [
        "y= df.iloc[:,-1:]\n",
        "y"
      ]
    },
    {
      "cell_type": "code",
      "execution_count": null,
      "id": "ab1a11ab",
      "metadata": {
        "id": "ab1a11ab"
      },
      "outputs": [],
      "source": [
        "from sklearn.model_selection import train_test_split\n",
        "x_train, x_test, y_train, y_test = train_test_split(x, y, test_size=0.3, random_state=101)"
      ]
    },
    {
      "cell_type": "markdown",
      "id": "f47afe1c",
      "metadata": {
        "id": "f47afe1c"
      },
      "source": [
        "### Logistic Regression"
      ]
    },
    {
      "cell_type": "code",
      "execution_count": null,
      "id": "bc365e9f",
      "metadata": {
        "id": "bc365e9f"
      },
      "outputs": [],
      "source": [
        "from sklearn.linear_model import LogisticRegression"
      ]
    },
    {
      "cell_type": "code",
      "execution_count": null,
      "id": "6725ab38",
      "metadata": {
        "id": "6725ab38"
      },
      "outputs": [],
      "source": [
        "from sklearn.preprocessing import LabelEncoder"
      ]
    },
    {
      "cell_type": "code",
      "execution_count": null,
      "id": "fd145d4b",
      "metadata": {
        "id": "fd145d4b"
      },
      "outputs": [],
      "source": [
        "lbl= LabelEncoder()"
      ]
    },
    {
      "cell_type": "code",
      "execution_count": null,
      "id": "fc0b7f0e",
      "metadata": {
        "colab": {
          "base_uri": "https://localhost:8080/"
        },
        "id": "fc0b7f0e",
        "outputId": "ee7cd86c-fe2f-4895-823d-2b128d7233a1"
      },
      "outputs": [],
      "source": [
        "encoded_y= lbl.fit_transform(y_train)"
      ]
    },
    {
      "cell_type": "code",
      "execution_count": null,
      "id": "95c072a3",
      "metadata": {
        "id": "95c072a3"
      },
      "outputs": [],
      "source": [
        "logreg= LogisticRegression()"
      ]
    },
    {
      "cell_type": "code",
      "execution_count": null,
      "id": "490ec8eb",
      "metadata": {
        "colab": {
          "base_uri": "https://localhost:8080/"
        },
        "id": "490ec8eb",
        "outputId": "688a6fa2-d60e-4ffa-d773-b10b6ba0aa4d",
        "scrolled": true
      },
      "outputs": [],
      "source": [
        "logreg = LogisticRegression()\n",
        "logreg.fit(x_train, encoded_y)\n"
      ]
    },
    {
      "cell_type": "code",
      "execution_count": null,
      "id": "2384501a",
      "metadata": {
        "colab": {
          "base_uri": "https://localhost:8080/"
        },
        "id": "2384501a",
        "outputId": "075cb913-b762-4592-e3e9-e4b3ee19c63d"
      },
      "outputs": [],
      "source": [
        "Y_pred1"
      ]
    },
    {
      "cell_type": "code",
      "execution_count": null,
      "id": "d9c6fe4d",
      "metadata": {
        "id": "d9c6fe4d"
      },
      "outputs": [],
      "source": [
        "from sklearn.metrics import accuracy_score\n",
        "from sklearn.metrics import confusion_matrix"
      ]
    },
    {
      "cell_type": "code",
      "execution_count": null,
      "id": "4c54745b",
      "metadata": {
        "colab": {
          "base_uri": "https://localhost:8080/"
        },
        "id": "4c54745b",
        "outputId": "fdf284be-f847-4dd4-e8bd-b5f9fa7b7048"
      },
      "outputs": [],
      "source": [
        "encoded_ytest= lbl.fit_transform(y_test)"
      ]
    },
    {
      "cell_type": "code",
      "execution_count": null,
      "id": "cc384c82",
      "metadata": {
        "id": "cc384c82"
      },
      "outputs": [],
      "source": [
        "Y_pred1 = logreg.predict(x_test)\n",
        "lr_conf_matrix = confusion_matrix(encoded_ytest,Y_pred1 )\n",
        "lr_acc_score = accuracy_score(encoded_ytest, Y_pred1)"
      ]
    },
    {
      "cell_type": "code",
      "execution_count": null,
      "id": "2575b911",
      "metadata": {
        "colab": {
          "base_uri": "https://localhost:8080/"
        },
        "id": "2575b911",
        "outputId": "a742efad-15d2-460d-9684-6424dcddaee5"
      },
      "outputs": [],
      "source": [
        "lr_conf_matrix"
      ]
    },
    {
      "cell_type": "code",
      "execution_count": null,
      "id": "21fe65ca",
      "metadata": {
        "colab": {
          "base_uri": "https://localhost:8080/"
        },
        "id": "21fe65ca",
        "outputId": "43fe8134-01d8-443a-9075-ccdc0a142d82"
      },
      "outputs": [],
      "source": [
        "print(lr_acc_score*100,\"%\")"
      ]
    },
    {
      "cell_type": "markdown",
      "id": "e1489812",
      "metadata": {
        "id": "e1489812"
      },
      "source": [
        "#### As we see the Logistic Regression Model have a 85% accuracy"
      ]
    },
    {
      "cell_type": "markdown",
      "id": "91d30976",
      "metadata": {
        "id": "91d30976"
      },
      "source": [
        "### Decision Tree"
      ]
    },
    {
      "cell_type": "code",
      "execution_count": null,
      "id": "57fd0f6f",
      "metadata": {
        "id": "57fd0f6f"
      },
      "outputs": [],
      "source": [
        "from sklearn.tree import DecisionTreeClassifier"
      ]
    },
    {
      "cell_type": "code",
      "execution_count": null,
      "id": "272dc52b",
      "metadata": {
        "id": "272dc52b"
      },
      "outputs": [],
      "source": [
        "tree= DecisionTreeClassifier()"
      ]
    },
    {
      "cell_type": "code",
      "execution_count": null,
      "id": "1084a9e9",
      "metadata": {
        "colab": {
          "base_uri": "https://localhost:8080/"
        },
        "id": "1084a9e9",
        "outputId": "42276000-916c-46a4-9fb4-1ba2707e8982"
      },
      "outputs": [],
      "source": [
        "tree.fit(x_train,encoded_y)"
      ]
    },
    {
      "cell_type": "code",
      "execution_count": null,
      "id": "f7043b2a",
      "metadata": {
        "id": "f7043b2a"
      },
      "outputs": [],
      "source": [
        "ypred2=tree.predict(x_test)"
      ]
    },
    {
      "cell_type": "code",
      "execution_count": null,
      "id": "6da8b27b",
      "metadata": {
        "colab": {
          "base_uri": "https://localhost:8080/"
        },
        "id": "6da8b27b",
        "outputId": "ea9ff497-8995-4e97-9bd1-4f3fcf5038db"
      },
      "outputs": [],
      "source": [
        "encoded_ytest= lbl.fit_transform(y_test)"
      ]
    },
    {
      "cell_type": "code",
      "execution_count": null,
      "id": "be972f54",
      "metadata": {
        "id": "be972f54"
      },
      "outputs": [],
      "source": [
        "tree_conf_matrix = confusion_matrix(encoded_ytest,ypred2 )\n",
        "tree_acc_score = accuracy_score(encoded_ytest, ypred2)"
      ]
    },
    {
      "cell_type": "code",
      "execution_count": null,
      "id": "1d8f0921",
      "metadata": {
        "colab": {
          "base_uri": "https://localhost:8080/"
        },
        "id": "1d8f0921",
        "outputId": "f74e1f7c-d40e-4690-9381-9984a5cf4141"
      },
      "outputs": [],
      "source": [
        "tree_conf_matrix"
      ]
    },
    {
      "cell_type": "code",
      "execution_count": null,
      "id": "31ada390",
      "metadata": {
        "colab": {
          "base_uri": "https://localhost:8080/"
        },
        "id": "31ada390",
        "outputId": "3679ec34-56e4-4c87-f0ed-0efbdedd76e2"
      },
      "outputs": [],
      "source": [
        "print(tree_acc_score*100,\"%\")"
      ]
    },
    {
      "cell_type": "markdown",
      "id": "f4760e8d",
      "metadata": {
        "id": "f4760e8d"
      },
      "source": [
        "#### As we see our Decision Tree Model does not perform well as it gives a score of only 69%"
      ]
    },
    {
      "cell_type": "markdown",
      "id": "f1ba55f8",
      "metadata": {
        "id": "f1ba55f8"
      },
      "source": [
        "### Random Forest"
      ]
    },
    {
      "cell_type": "code",
      "execution_count": null,
      "id": "b8b06ba3",
      "metadata": {
        "id": "b8b06ba3"
      },
      "outputs": [],
      "source": [
        "from sklearn.ensemble import RandomForestClassifier"
      ]
    },
    {
      "cell_type": "code",
      "execution_count": null,
      "id": "59c848ba",
      "metadata": {
        "id": "59c848ba"
      },
      "outputs": [],
      "source": [
        "rf= RandomForestClassifier()"
      ]
    },
    {
      "cell_type": "code",
      "execution_count": null,
      "id": "4f759f57",
      "metadata": {
        "colab": {
          "base_uri": "https://localhost:8080/"
        },
        "id": "4f759f57",
        "outputId": "ea2629d8-021c-4a5b-a59a-69adda9bbb8c"
      },
      "outputs": [],
      "source": [
        "rf.fit(x_train,encoded_y)"
      ]
    },
    {
      "cell_type": "code",
      "execution_count": null,
      "id": "84ce0c9b",
      "metadata": {
        "id": "84ce0c9b"
      },
      "outputs": [],
      "source": [
        "ypred3 = rf.predict(x_test)"
      ]
    },
    {
      "cell_type": "code",
      "execution_count": null,
      "id": "54a9d9c1",
      "metadata": {
        "id": "54a9d9c1"
      },
      "outputs": [],
      "source": [
        "rf_conf_matrix = confusion_matrix(encoded_ytest,ypred3 )\n",
        "rf_acc_score = accuracy_score(encoded_ytest, ypred3)"
      ]
    },
    {
      "cell_type": "code",
      "execution_count": null,
      "id": "87743b4a",
      "metadata": {
        "colab": {
          "base_uri": "https://localhost:8080/"
        },
        "id": "87743b4a",
        "outputId": "7451dda4-79d4-41e5-bb18-f7e3f8f229e6"
      },
      "outputs": [],
      "source": [
        "rf_conf_matrix"
      ]
    },
    {
      "cell_type": "code",
      "execution_count": null,
      "id": "c979134b",
      "metadata": {
        "colab": {
          "base_uri": "https://localhost:8080/"
        },
        "id": "c979134b",
        "outputId": "9141f262-4e3e-47d1-972f-2ecf76b2b4cb"
      },
      "outputs": [],
      "source": [
        "print(rf_acc_score*100,\"%\")"
      ]
    },
    {
      "cell_type": "markdown",
      "id": "76198812",
      "metadata": {
        "id": "76198812"
      },
      "source": [
        "#### RF also gives us an accuracy of around 80%"
      ]
    },
    {
      "cell_type": "markdown",
      "id": "1ee91d80",
      "metadata": {
        "id": "1ee91d80"
      },
      "source": [
        "### K Nearest Neighbour"
      ]
    },
    {
      "cell_type": "markdown",
      "id": "62110010",
      "metadata": {
        "id": "62110010"
      },
      "source": [
        "#### We have to select what k we will use for the maximum accuracy\n",
        "#### Let's write a function for it"
      ]
    },
    {
      "cell_type": "code",
      "execution_count": null,
      "id": "4ff541b0",
      "metadata": {
        "id": "4ff541b0"
      },
      "outputs": [],
      "source": [
        "from sklearn.neighbors import KNeighborsClassifier"
      ]
    },
    {
      "cell_type": "code",
      "execution_count": null,
      "id": "65870660",
      "metadata": {
        "id": "65870660"
      },
      "outputs": [],
      "source": [
        "error_rate= []\n",
        "for i in range(1,40):\n",
        "    knn= KNeighborsClassifier(n_neighbors=i)\n",
        "    knn.fit(x_train,encoded_y)\n",
        "    pred= knn.predict(x_test)\n",
        "    error_rate.append(np.mean(pred != encoded_ytest))"
      ]
    },
    {
      "cell_type": "code",
      "execution_count": null,
      "id": "42ae2788",
      "metadata": {
        "colab": {
          "base_uri": "https://localhost:8080/",
          "height": 404
        },
        "id": "42ae2788",
        "outputId": "4f864d85-2763-439c-ab3b-5311e265bf3c"
      },
      "outputs": [],
      "source": [
        "plt.figure(figsize=(10,6))\n",
        "plt.plot(range(1,40),error_rate,color='blue', linestyle='dashed', marker='o',\n",
        "         markerfacecolor='red', markersize=10)\n",
        "plt.xlabel('K Vlaue')\n",
        "plt.ylabel('Error rate')\n",
        "plt.title('To check the correct value of k')\n",
        "plt.show()"
      ]
    },
    {
      "cell_type": "markdown",
      "id": "772a7790",
      "metadata": {
        "id": "772a7790"
      },
      "source": [
        "#### As we see from the graph we should select K= 12 as it gives the best error rate"
      ]
    },
    {
      "cell_type": "code",
      "execution_count": null,
      "id": "b8a69b74",
      "metadata": {
        "id": "b8a69b74"
      },
      "outputs": [],
      "source": [
        "knn= KNeighborsClassifier(n_neighbors=12)\n",
        "knn.fit(x_train,encoded_y)\n",
        "ypred4= knn.predict(x_test)\n"
      ]
    },
    {
      "cell_type": "code",
      "execution_count": null,
      "id": "0b703d53",
      "metadata": {
        "id": "0b703d53"
      },
      "outputs": [],
      "source": [
        "knn_conf_matrix = confusion_matrix(encoded_ytest,ypred4 )\n",
        "knn_acc_score = accuracy_score(encoded_ytest, ypred4)"
      ]
    },
    {
      "cell_type": "code",
      "execution_count": null,
      "id": "4b06cc63",
      "metadata": {
        "colab": {
          "base_uri": "https://localhost:8080/"
        },
        "id": "4b06cc63",
        "outputId": "91960d08-9f0d-4468-dfd1-cc9074ed3288"
      },
      "outputs": [],
      "source": [
        "knn_conf_matrix"
      ]
    },
    {
      "cell_type": "code",
      "execution_count": null,
      "id": "2cf67bb7",
      "metadata": {
        "colab": {
          "base_uri": "https://localhost:8080/"
        },
        "id": "2cf67bb7",
        "outputId": "8c091453-0f6f-4b81-e1a5-1a2c51d6dc70"
      },
      "outputs": [],
      "source": [
        "print(knn_acc_score*100,\"%\")"
      ]
    },
    {
      "cell_type": "markdown",
      "id": "39fe4f60",
      "metadata": {
        "id": "39fe4f60"
      },
      "source": [
        "#### As we see KNN gives us an accuracy of around 85% which is good"
      ]
    },
    {
      "cell_type": "markdown",
      "id": "858e4cc1",
      "metadata": {
        "id": "858e4cc1"
      },
      "source": [
        "### Support Vector Machine(SVM)"
      ]
    },
    {
      "cell_type": "code",
      "execution_count": null,
      "id": "aeec58fa",
      "metadata": {
        "id": "aeec58fa"
      },
      "outputs": [],
      "source": [
        "from sklearn import svm"
      ]
    },
    {
      "cell_type": "code",
      "execution_count": null,
      "id": "4570391e",
      "metadata": {
        "id": "4570391e"
      },
      "outputs": [],
      "source": [
        "svm= svm.SVC()"
      ]
    },
    {
      "cell_type": "code",
      "execution_count": null,
      "id": "f5c939ff",
      "metadata": {
        "colab": {
          "base_uri": "https://localhost:8080/"
        },
        "id": "f5c939ff",
        "outputId": "d37aa452-90e5-4ab1-adda-8ddcf9763b87"
      },
      "outputs": [],
      "source": [
        "svm.fit(x_train,encoded_y)"
      ]
    },
    {
      "cell_type": "code",
      "execution_count": null,
      "id": "e42dfbeb",
      "metadata": {
        "id": "e42dfbeb"
      },
      "outputs": [],
      "source": [
        "ypred5= svm.predict(x_test)"
      ]
    },
    {
      "cell_type": "code",
      "execution_count": null,
      "id": "1b5742fb",
      "metadata": {
        "id": "1b5742fb"
      },
      "outputs": [],
      "source": [
        "svm_conf_matrix = confusion_matrix(encoded_ytest,ypred5)\n",
        "svm_acc_score = accuracy_score(encoded_ytest, ypred5)"
      ]
    },
    {
      "cell_type": "code",
      "execution_count": null,
      "id": "44445d24",
      "metadata": {
        "colab": {
          "base_uri": "https://localhost:8080/"
        },
        "id": "44445d24",
        "outputId": "d48cf528-7910-4434-db09-23f95bc66686"
      },
      "outputs": [],
      "source": [
        "svm_conf_matrix"
      ]
    },
    {
      "cell_type": "code",
      "execution_count": null,
      "id": "9d0f7014",
      "metadata": {
        "colab": {
          "base_uri": "https://localhost:8080/"
        },
        "id": "9d0f7014",
        "outputId": "ba4500e6-98fc-40a0-9d56-f30a3e603986"
      },
      "outputs": [],
      "source": [
        "print(svm_acc_score*100,\"%\")"
      ]
    },
    {
      "cell_type": "markdown",
      "id": "9ac104d5",
      "metadata": {
        "id": "9ac104d5"
      },
      "source": [
        "#### We get an accuracy of 80% in SVM"
      ]
    },
    {
      "cell_type": "markdown",
      "id": "28be6aca",
      "metadata": {
        "id": "28be6aca"
      },
      "source": [
        "#### Let us see our model accuracy in Table form"
      ]
    },
    {
      "cell_type": "code",
      "execution_count": null,
      "id": "2cfd8dbc",
      "metadata": {
        "id": "2cfd8dbc"
      },
      "outputs": [],
      "source": [
        "model_acc= pd.DataFrame({'Model' : ['Logistic Regression','Decision Tree','Random Forest','K Nearest Neighbor','SVM'],'Accuracy' : [lr_acc_score*100,tree_acc_score*100,rf_acc_score*100,knn_acc_score*100,svm_acc_score*100]})"
      ]
    },
    {
      "cell_type": "code",
      "execution_count": null,
      "id": "ae189506",
      "metadata": {
        "id": "ae189506"
      },
      "outputs": [],
      "source": [
        "model_acc = model_acc.sort_values(by=['Accuracy'],ascending=False)"
      ]
    },
    {
      "cell_type": "code",
      "execution_count": null,
      "id": "5ad7e0bd",
      "metadata": {
        "colab": {
          "base_uri": "https://localhost:8080/",
          "height": 203
        },
        "id": "5ad7e0bd",
        "outputId": "7c9069cf-a7e7-4434-8178-c592c11b0b58"
      },
      "outputs": [],
      "source": [
        "model_acc"
      ]
    },
    {
      "cell_type": "markdown",
      "id": "810f1fb1",
      "metadata": {
        "id": "810f1fb1"
      },
      "source": [
        "#### Let us use one more Techniques known as Adaboost, this is a Boosting technique which uses multiple models for better accuracy."
      ]
    },
    {
      "cell_type": "markdown",
      "id": "6c28fd11",
      "metadata": {
        "id": "6c28fd11"
      },
      "source": [
        "### Adaboost  Classifier"
      ]
    },
    {
      "cell_type": "markdown",
      "id": "54e50822",
      "metadata": {
        "id": "54e50822"
      },
      "source": [
        "#### Let us first use some random parameters for training the model without Hypertuning."
      ]
    },
    {
      "cell_type": "code",
      "execution_count": null,
      "id": "7da63767",
      "metadata": {
        "id": "7da63767"
      },
      "outputs": [],
      "source": [
        "from sklearn.ensemble import AdaBoostClassifier"
      ]
    },
    {
      "cell_type": "code",
      "execution_count": null,
      "id": "12cd0f5f",
      "metadata": {
        "id": "12cd0f5f"
      },
      "outputs": [],
      "source": [
        "adab= AdaBoostClassifier(base_estimator=svm,n_estimators=100,algorithm='SAMME',learning_rate=0.01,random_state=0)"
      ]
    },
    {
      "cell_type": "code",
      "execution_count": null,
      "id": "14eb4f33",
      "metadata": {
        "colab": {
          "base_uri": "https://localhost:8080/"
        },
        "id": "14eb4f33",
        "outputId": "2112da90-24f5-4576-9606-633c9612c9c4"
      },
      "outputs": [],
      "source": [
        "adab.fit(x_train,encoded_y)"
      ]
    },
    {
      "cell_type": "code",
      "execution_count": null,
      "id": "9118148c",
      "metadata": {
        "id": "9118148c"
      },
      "outputs": [],
      "source": [
        "ypred6=adab.predict(x_test)"
      ]
    },
    {
      "cell_type": "code",
      "execution_count": null,
      "id": "0d354c44",
      "metadata": {
        "id": "0d354c44"
      },
      "outputs": [],
      "source": [
        "adab_conf_matrix = confusion_matrix(encoded_ytest,ypred6)\n",
        "adab_acc_score = accuracy_score(encoded_ytest, ypred6)"
      ]
    },
    {
      "cell_type": "code",
      "execution_count": null,
      "id": "6f1b8459",
      "metadata": {
        "colab": {
          "base_uri": "https://localhost:8080/"
        },
        "id": "6f1b8459",
        "outputId": "f40babe0-b27c-4bd5-f123-85915fda3385"
      },
      "outputs": [],
      "source": [
        "adab_conf_matrix"
      ]
    },
    {
      "cell_type": "code",
      "execution_count": null,
      "id": "3f9920f3",
      "metadata": {
        "colab": {
          "base_uri": "https://localhost:8080/"
        },
        "id": "3f9920f3",
        "outputId": "623f3f38-176a-4e7f-8352-86bf1b038613"
      },
      "outputs": [],
      "source": [
        "print(adab_acc_score*100,\"%\")"
      ]
    },
    {
      "cell_type": "code",
      "execution_count": null,
      "id": "68f2c9ba",
      "metadata": {
        "colab": {
          "base_uri": "https://localhost:8080/"
        },
        "id": "68f2c9ba",
        "outputId": "54038e9b-1259-42f2-d428-ae82b8d828fd"
      },
      "outputs": [],
      "source": [
        "adab.score(x_train,encoded_y)"
      ]
    },
    {
      "cell_type": "code",
      "execution_count": null,
      "id": "68616ec5",
      "metadata": {
        "colab": {
          "base_uri": "https://localhost:8080/"
        },
        "id": "68616ec5",
        "outputId": "bc3e8997-9b93-4fc5-deb7-47e20f980602"
      },
      "outputs": [],
      "source": [
        "adab.score(x_test,encoded_ytest)"
      ]
    },
    {
      "cell_type": "markdown",
      "id": "7738dab8",
      "metadata": {
        "id": "7738dab8"
      },
      "source": [
        "#### As we see our model has performed very poorly with just 50% accuracy "
      ]
    },
    {
      "cell_type": "markdown",
      "id": "7056e4f2",
      "metadata": {
        "id": "7056e4f2"
      },
      "source": [
        "#### We will use Grid Seach CV for HyperParameter Tuning"
      ]
    },
    {
      "cell_type": "markdown",
      "id": "ac36a040",
      "metadata": {
        "id": "ac36a040"
      },
      "source": [
        "### Grid Search CV"
      ]
    },
    {
      "cell_type": "markdown",
      "id": "d27ba9c6",
      "metadata": {
        "id": "d27ba9c6"
      },
      "source": [
        "#### Let us try Grid Search CV for our top 3 performing Algorithms for HyperParameter tuning"
      ]
    },
    {
      "cell_type": "code",
      "execution_count": null,
      "id": "3de43b46",
      "metadata": {
        "id": "3de43b46"
      },
      "outputs": [],
      "source": [
        "from sklearn.model_selection import GridSearchCV"
      ]
    },
    {
      "cell_type": "code",
      "execution_count": null,
      "id": "bb7e45c2",
      "metadata": {
        "colab": {
          "base_uri": "https://localhost:8080/",
          "height": 203
        },
        "id": "bb7e45c2",
        "outputId": "814e185a-345a-4d49-a3d1-cde1695e15dd"
      },
      "outputs": [],
      "source": [
        "model_acc"
      ]
    },
    {
      "cell_type": "markdown",
      "id": "821b84c9",
      "metadata": {
        "id": "821b84c9"
      },
      "source": [
        "### Logistic Regression"
      ]
    },
    {
      "cell_type": "code",
      "execution_count": null,
      "id": "9aaf5890",
      "metadata": {
        "id": "9aaf5890"
      },
      "outputs": [],
      "source": [
        "param_grid= {\n",
        "    \n",
        "    'solver': ['newton-cg', 'lbfgs', 'liblinear','sag', 'saga'],\n",
        "    'penalty' : ['none', 'l1', 'l2', 'elasticnet'],\n",
        "    'C' : [100, 10, 1.0, 0.1, 0.01]\n",
        "    \n",
        "}"
      ]
    },
    {
      "cell_type": "code",
      "execution_count": null,
      "id": "fea8f304",
      "metadata": {
        "id": "fea8f304"
      },
      "outputs": [],
      "source": [
        "grid1= GridSearchCV(LogisticRegression(),param_grid)"
      ]
    },
    {
      "cell_type": "code",
      "execution_count": null,
      "id": "e9fb6d65",
      "metadata": {
        "colab": {
          "base_uri": "https://localhost:8080/"
        },
        "id": "e9fb6d65",
        "outputId": "125bffbc-ef47-472c-e56a-b18f02a85d38"
      },
      "outputs": [],
      "source": [
        "grid1.fit(x_train,encoded_y)"
      ]
    },
    {
      "cell_type": "code",
      "execution_count": null,
      "id": "42620a59",
      "metadata": {
        "colab": {
          "base_uri": "https://localhost:8080/"
        },
        "id": "42620a59",
        "outputId": "5ed83a22-1ad5-45c0-f13a-52ed3327f845"
      },
      "outputs": [],
      "source": [
        "grid1.best_params_"
      ]
    },
    {
      "cell_type": "markdown",
      "id": "e1a09eeb",
      "metadata": {
        "id": "e1a09eeb"
      },
      "source": [
        "#### Let us apply these para in our Model"
      ]
    },
    {
      "cell_type": "code",
      "execution_count": null,
      "id": "31518d71",
      "metadata": {
        "id": "31518d71"
      },
      "outputs": [],
      "source": [
        "logreg1= LogisticRegression(C=0.01,penalty='l2',solver='liblinear')"
      ]
    },
    {
      "cell_type": "code",
      "execution_count": null,
      "id": "f5e0b331",
      "metadata": {
        "colab": {
          "base_uri": "https://localhost:8080/"
        },
        "id": "f5e0b331",
        "outputId": "4a7fb86f-6483-4029-d601-10533686e196"
      },
      "outputs": [],
      "source": [
        "logreg1.fit(x_train,encoded_y)"
      ]
    },
    {
      "cell_type": "code",
      "execution_count": null,
      "id": "55e71229",
      "metadata": {
        "id": "55e71229"
      },
      "outputs": [],
      "source": [
        "logreg_pred= logreg1.predict(x_test)"
      ]
    },
    {
      "cell_type": "code",
      "execution_count": null,
      "id": "17f962b5",
      "metadata": {
        "id": "17f962b5"
      },
      "outputs": [],
      "source": [
        "logreg_pred_conf_matrix = confusion_matrix(encoded_ytest,logreg_pred)\n",
        "logreg_pred_acc_score = accuracy_score(encoded_ytest, logreg_pred)"
      ]
    },
    {
      "cell_type": "code",
      "execution_count": null,
      "id": "e3695a54",
      "metadata": {
        "colab": {
          "base_uri": "https://localhost:8080/"
        },
        "id": "e3695a54",
        "outputId": "f5f1b97d-c43b-4b8e-e2e2-351989a35eec"
      },
      "outputs": [],
      "source": [
        "logreg_pred_conf_matrix"
      ]
    },
    {
      "cell_type": "code",
      "execution_count": null,
      "id": "35e7af19",
      "metadata": {
        "colab": {
          "base_uri": "https://localhost:8080/"
        },
        "id": "35e7af19",
        "outputId": "7ede5731-2732-468c-d02d-095ba9e1e18d"
      },
      "outputs": [],
      "source": [
        "print(logreg_pred_acc_score*100,\"%\")"
      ]
    },
    {
      "cell_type": "markdown",
      "id": "53e36955",
      "metadata": {
        "id": "53e36955"
      },
      "source": [
        "#### We got an accuracy of 81%"
      ]
    },
    {
      "cell_type": "markdown",
      "id": "da242c28",
      "metadata": {
        "id": "da242c28"
      },
      "source": [
        "### KNN"
      ]
    },
    {
      "cell_type": "code",
      "execution_count": null,
      "id": "d2298a31",
      "metadata": {
        "id": "d2298a31"
      },
      "outputs": [],
      "source": [
        "n_neighbors = range(1, 21, 2)\n",
        "weights = ['uniform', 'distance']\n",
        "metric = ['euclidean', 'manhattan', 'minkowski']"
      ]
    },
    {
      "cell_type": "code",
      "execution_count": null,
      "id": "055fead3",
      "metadata": {
        "id": "055fead3"
      },
      "outputs": [],
      "source": [
        "grid = dict(n_neighbors=n_neighbors,weights=weights,metric=metric)"
      ]
    },
    {
      "cell_type": "code",
      "execution_count": null,
      "id": "8016423c",
      "metadata": {
        "id": "8016423c"
      },
      "outputs": [],
      "source": [
        "from sklearn.model_selection import RepeatedStratifiedKFold"
      ]
    },
    {
      "cell_type": "code",
      "execution_count": null,
      "id": "c2dcbc97",
      "metadata": {
        "id": "c2dcbc97"
      },
      "outputs": [],
      "source": [
        "cv = RepeatedStratifiedKFold(n_splits=10, n_repeats=3, random_state=1)"
      ]
    },
    {
      "cell_type": "code",
      "execution_count": null,
      "id": "ade95727",
      "metadata": {
        "id": "ade95727"
      },
      "outputs": [],
      "source": [
        "grid_search = GridSearchCV(estimator=knn, param_grid=grid, n_jobs=-1, cv=cv, scoring='accuracy',error_score=0)"
      ]
    },
    {
      "cell_type": "code",
      "execution_count": null,
      "id": "67ea4855",
      "metadata": {
        "colab": {
          "base_uri": "https://localhost:8080/"
        },
        "id": "67ea4855",
        "outputId": "62f0204a-c8ac-48e8-af71-3a0a55dfcb74"
      },
      "outputs": [],
      "source": [
        "grid_search.fit(x_train,encoded_y)"
      ]
    },
    {
      "cell_type": "code",
      "execution_count": null,
      "id": "49c92d8a",
      "metadata": {
        "colab": {
          "base_uri": "https://localhost:8080/"
        },
        "id": "49c92d8a",
        "outputId": "3bb3b16e-6cc9-4d26-ef60-c5ae65177d60"
      },
      "outputs": [],
      "source": [
        "grid_search.best_params_"
      ]
    },
    {
      "cell_type": "markdown",
      "id": "5911dbaf",
      "metadata": {
        "id": "5911dbaf"
      },
      "source": [
        "#### Let's apply"
      ]
    },
    {
      "cell_type": "code",
      "execution_count": null,
      "id": "ffce7654",
      "metadata": {
        "id": "ffce7654"
      },
      "outputs": [],
      "source": [
        "knn= KNeighborsClassifier(n_neighbors=12,metric='manhattan',weights='distance')\n",
        "knn.fit(x_train,encoded_y)\n",
        "knn_pred= knn.predict(x_test)"
      ]
    },
    {
      "cell_type": "code",
      "execution_count": null,
      "id": "0b22b9ae",
      "metadata": {
        "id": "0b22b9ae"
      },
      "outputs": [],
      "source": [
        "knn_pred_conf_matrix = confusion_matrix(encoded_ytest,knn_pred)\n",
        "knn_pred_acc_score = accuracy_score(encoded_ytest, knn_pred)"
      ]
    },
    {
      "cell_type": "code",
      "execution_count": null,
      "id": "378127a2",
      "metadata": {
        "colab": {
          "base_uri": "https://localhost:8080/"
        },
        "id": "378127a2",
        "outputId": "a081788f-73a5-4fd1-cf52-fad2de5a96fa"
      },
      "outputs": [],
      "source": [
        "knn_pred_conf_matrix"
      ]
    },
    {
      "cell_type": "code",
      "execution_count": null,
      "id": "e6fa0676",
      "metadata": {
        "colab": {
          "base_uri": "https://localhost:8080/"
        },
        "id": "e6fa0676",
        "outputId": "357d08fa-9f58-43ec-f2a8-26cc4d840bd2"
      },
      "outputs": [],
      "source": [
        "print(knn_pred_acc_score*100,\"%\")"
      ]
    },
    {
      "cell_type": "markdown",
      "id": "e2b7fc19",
      "metadata": {
        "id": "e2b7fc19"
      },
      "source": [
        "#### We have an Accuracy of 82.5%"
      ]
    },
    {
      "cell_type": "markdown",
      "id": "aed9b3fe",
      "metadata": {
        "id": "aed9b3fe"
      },
      "source": [
        "### SVM"
      ]
    },
    {
      "cell_type": "code",
      "execution_count": null,
      "id": "0cf439b2",
      "metadata": {
        "id": "0cf439b2"
      },
      "outputs": [],
      "source": [
        "\n",
        "kernel = ['poly', 'rbf', 'sigmoid']\n",
        "C = [50, 10, 1.0, 0.1, 0.01]\n",
        "gamma = ['scale']"
      ]
    },
    {
      "cell_type": "code",
      "execution_count": null,
      "id": "77bad1f1",
      "metadata": {
        "id": "77bad1f1"
      },
      "outputs": [],
      "source": [
        "grid = dict(kernel=kernel,C=C,gamma=gamma)\n",
        "cv = RepeatedStratifiedKFold(n_splits=10, n_repeats=3, random_state=1)\n",
        "grid_search = GridSearchCV(estimator=svm, param_grid=grid, n_jobs=-1, cv=cv, scoring='accuracy',error_score=0)"
      ]
    },
    {
      "cell_type": "code",
      "execution_count": null,
      "id": "981d60a1",
      "metadata": {
        "colab": {
          "base_uri": "https://localhost:8080/"
        },
        "id": "981d60a1",
        "outputId": "f7945508-9e2f-4ac2-b0f4-da48afb7834a"
      },
      "outputs": [],
      "source": [
        "grid_search.fit(x_train,encoded_y)"
      ]
    },
    {
      "cell_type": "code",
      "execution_count": null,
      "id": "f034a948",
      "metadata": {
        "colab": {
          "base_uri": "https://localhost:8080/"
        },
        "id": "f034a948",
        "outputId": "7ce1dd90-365e-40cf-82f9-ad977126f5a7"
      },
      "outputs": [],
      "source": [
        "grid_search.best_params_"
      ]
    },
    {
      "cell_type": "markdown",
      "id": "f9c82fd9",
      "metadata": {
        "id": "f9c82fd9"
      },
      "source": [
        "#### Let us apply these"
      ]
    },
    {
      "cell_type": "code",
      "execution_count": null,
      "id": "PO0K0nnsOSNQ",
      "metadata": {
        "id": "PO0K0nnsOSNQ"
      },
      "outputs": [],
      "source": [
        "from sklearn.svm import SVC"
      ]
    },
    {
      "cell_type": "code",
      "execution_count": null,
      "id": "c659a637",
      "metadata": {
        "id": "c659a637"
      },
      "outputs": [],
      "source": [
        "svc= SVC(C= 0.1, gamma= 'scale',kernel= 'sigmoid')"
      ]
    },
    {
      "cell_type": "code",
      "execution_count": null,
      "id": "06238abe",
      "metadata": {
        "colab": {
          "base_uri": "https://localhost:8080/"
        },
        "id": "06238abe",
        "outputId": "705be280-9e19-4679-f2d3-2fa2f93aa83a"
      },
      "outputs": [],
      "source": [
        "svc.fit(x_train,encoded_y)"
      ]
    },
    {
      "cell_type": "code",
      "execution_count": null,
      "id": "c190a33a",
      "metadata": {
        "id": "c190a33a"
      },
      "outputs": [],
      "source": [
        "svm_pred= svc.predict(x_test)"
      ]
    },
    {
      "cell_type": "code",
      "execution_count": null,
      "id": "9d6a0832",
      "metadata": {
        "id": "9d6a0832"
      },
      "outputs": [],
      "source": [
        "svm_pred_conf_matrix = confusion_matrix(encoded_ytest,svm_pred)\n",
        "svm_pred_acc_score = accuracy_score(encoded_ytest, svm_pred)"
      ]
    },
    {
      "cell_type": "code",
      "execution_count": null,
      "id": "fcff6b3f",
      "metadata": {
        "colab": {
          "base_uri": "https://localhost:8080/"
        },
        "id": "fcff6b3f",
        "outputId": "e33280bf-6506-4e13-b672-94b155f941cc"
      },
      "outputs": [],
      "source": [
        "svm_pred_conf_matrix"
      ]
    },
    {
      "cell_type": "code",
      "execution_count": null,
      "id": "46565aa3",
      "metadata": {
        "colab": {
          "base_uri": "https://localhost:8080/"
        },
        "id": "46565aa3",
        "outputId": "e5fb2109-2721-454f-9ba8-880b8e08d136"
      },
      "outputs": [],
      "source": [
        "print(svm_pred_acc_score*100,\"%\")"
      ]
    },
    {
      "cell_type": "markdown",
      "id": "5a233fd3",
      "metadata": {
        "id": "5a233fd3"
      },
      "source": [
        "#### Accuracy is 81%"
      ]
    },
    {
      "cell_type": "markdown",
      "id": "46ad2035",
      "metadata": {
        "id": "46ad2035"
      },
      "source": [
        "## Final Verdict"
      ]
    },
    {
      "cell_type": "markdown",
      "id": "c15249fb",
      "metadata": {
        "id": "c15249fb"
      },
      "source": [
        "#### After comparing all the models the best performing model is :\n",
        "### Logistic Regression with no Hyperparameter tuning"
      ]
    },
    {
      "cell_type": "code",
      "execution_count": null,
      "id": "53ee451c",
      "metadata": {
        "colab": {
          "base_uri": "https://localhost:8080/"
        },
        "id": "53ee451c",
        "outputId": "074fbbba-f33c-48cb-b6f7-ccd1cf7b3f77"
      },
      "outputs": [],
      "source": [
        "logreg= LogisticRegression()\n",
        "logreg = LogisticRegression()\n",
        "logreg.fit(x_train, encoded_y)"
      ]
    },
    {
      "cell_type": "code",
      "execution_count": null,
      "id": "fd908d51",
      "metadata": {
        "colab": {
          "base_uri": "https://localhost:8080/"
        },
        "id": "fd908d51",
        "outputId": "8ad42013-efb5-43ec-94c5-3bbf2218926e"
      },
      "outputs": [],
      "source": [
        "Y_pred1"
      ]
    },
    {
      "cell_type": "code",
      "execution_count": null,
      "id": "ddb705ae",
      "metadata": {
        "colab": {
          "base_uri": "https://localhost:8080/"
        },
        "id": "ddb705ae",
        "outputId": "61145786-9255-4e35-c3a7-1ecd14c73d08"
      },
      "outputs": [],
      "source": [
        "lr_conf_matrix"
      ]
    },
    {
      "cell_type": "code",
      "execution_count": null,
      "id": "379cda3d",
      "metadata": {
        "colab": {
          "base_uri": "https://localhost:8080/"
        },
        "id": "379cda3d",
        "outputId": "ef2b5f3d-6200-474f-a5b8-c55996cf11d7"
      },
      "outputs": [],
      "source": [
        "print(lr_acc_score*100,\"%\")"
      ]
    },
    {
      "cell_type": "markdown",
      "id": "a7d2a257",
      "metadata": {
        "id": "a7d2a257"
      },
      "source": [
        "#### Let us build a proper confusion matrix for our model"
      ]
    },
    {
      "cell_type": "code",
      "execution_count": null,
      "id": "89c4d5f7",
      "metadata": {
        "colab": {
          "base_uri": "https://localhost:8080/",
          "height": 328
        },
        "id": "89c4d5f7",
        "outputId": "15433c30-a567-4fd4-bbda-bd1b78d5c55b"
      },
      "outputs": [],
      "source": [
        "# Confusion Matrix of  Model enlarged\n",
        "options = [\"Disease\", 'No Disease']\n",
        "\n",
        "fig, ax = plt.subplots()\n",
        "im = ax.imshow(lr_conf_matrix, cmap= 'Set3', interpolation='nearest')\n",
        "\n",
        "# We want to show all ticks...\n",
        "ax.set_xticks(np.arange(len(options)))\n",
        "ax.set_yticks(np.arange(len(options)))\n",
        "# ... and label them with the respective list entries\n",
        "ax.set_xticklabels(options)\n",
        "ax.set_yticklabels(options)\n",
        "\n",
        "# Rotate the tick labels and set their alignment.\n",
        "plt.setp(ax.get_xticklabels(), rotation=45, ha=\"right\",\n",
        "         rotation_mode=\"anchor\")\n",
        "\n",
        "# Loop over data dimensions and create text annotations.\n",
        "for i in range(len(options)):\n",
        "    for j in range(len(options)):\n",
        "        text = ax.text(j, i, lr_conf_matrix[i, j],\n",
        "                       ha=\"center\", va=\"center\", color=\"black\")\n",
        "\n",
        "ax.set_title(\"Confusion Matrix of Logistic Regression Model\")\n",
        "fig.tight_layout()\n",
        "plt.xlabel('Model Prediction')\n",
        "plt.ylabel('Actual Result')\n",
        "plt.show()\n",
        "print(\"ACCURACY of our model is \",lr_acc_score*100,\"%\")"
      ]
    },
    {
      "cell_type": "markdown",
      "id": "4b73a599",
      "metadata": {
        "id": "4b73a599"
      },
      "source": [
        "## We have succesfully made our model which predicts weather a person is having a risk of Heart Disease or not with 85.7% accuracy"
      ]
    },
    {
      "cell_type": "code",
      "execution_count": null,
      "id": "576f0acf",
      "metadata": {
        "id": "576f0acf"
      },
      "outputs": [],
      "source": [
        "import pickle"
      ]
    },
    {
      "cell_type": "code",
      "execution_count": null,
      "id": "7e73010c",
      "metadata": {
        "id": "7e73010c"
      },
      "outputs": [],
      "source": [
        "pickle.dump(logreg,open('heart.pkl','wb'))"
      ]
    },
    {
      "cell_type": "markdown",
      "id": "589ba375",
      "metadata": {
        "id": "589ba375"
      },
      "source": [
        "## Installing Eval ML"
      ]
    },
    {
      "cell_type": "code",
      "execution_count": null,
      "id": "03b25dab",
      "metadata": {
        "colab": {
          "base_uri": "https://localhost:8080/",
          "height": 1000
        },
        "id": "03b25dab",
        "outputId": "25bf21b3-0754-4c26-d3f4-7cfb6ad66b41"
      },
      "outputs": [],
      "source": [
        "!pip install evalml"
      ]
    },
    {
      "cell_type": "markdown",
      "id": "OaIQpOrSQNeJ",
      "metadata": {
        "id": "OaIQpOrSQNeJ"
      },
      "source": [
        "# Let us load our DataSet."
      ]
    },
    {
      "cell_type": "code",
      "execution_count": null,
      "id": "a9aa9294",
      "metadata": {
        "id": "a9aa9294"
      },
      "outputs": [],
      "source": [
        "df= pd.read_csv(\"heart.csv\")"
      ]
    },
    {
      "cell_type": "code",
      "execution_count": null,
      "id": "ad672e19",
      "metadata": {
        "colab": {
          "base_uri": "https://localhost:8080/",
          "height": 203
        },
        "id": "ad672e19",
        "outputId": "64672674-0335-4e2d-84d3-fe65025f91a2"
      },
      "outputs": [],
      "source": [
        "df.head()"
      ]
    },
    {
      "cell_type": "markdown",
      "id": "4DqdJmahQwAT",
      "metadata": {
        "id": "4DqdJmahQwAT"
      },
      "source": [
        "Let us split our Data Set into Dependent i.e our Targer variable and independent variable"
      ]
    },
    {
      "cell_type": "code",
      "execution_count": null,
      "id": "g_5E4EYtQu_K",
      "metadata": {
        "colab": {
          "base_uri": "https://localhost:8080/",
          "height": 417
        },
        "id": "g_5E4EYtQu_K",
        "outputId": "a55f5377-c342-43fb-bbe4-46650808239d"
      },
      "outputs": [],
      "source": [
        "x= df.iloc[:,:-1]\n",
        "x"
      ]
    },
    {
      "cell_type": "code",
      "execution_count": null,
      "id": "JALiBgGIVDW7",
      "metadata": {
        "colab": {
          "base_uri": "https://localhost:8080/"
        },
        "id": "JALiBgGIVDW7",
        "outputId": "534be1b4-3a2a-47ae-c1c6-7d4e540d831c"
      },
      "outputs": [],
      "source": [
        "y= df.iloc[:,-1:]\n",
        "y= lbl.fit_transform(y)\n",
        "y"
      ]
    },
    {
      "cell_type": "markdown",
      "id": "NoJlT-8wRhPi",
      "metadata": {
        "id": "NoJlT-8wRhPi"
      },
      "source": [
        "# **Importing Eval ML Library**"
      ]
    },
    {
      "cell_type": "code",
      "execution_count": null,
      "id": "yXueZmVmRK5-",
      "metadata": {
        "id": "yXueZmVmRK5-"
      },
      "outputs": [],
      "source": [
        "import evalml"
      ]
    },
    {
      "cell_type": "markdown",
      "id": "oYTynPPUSBzn",
      "metadata": {
        "id": "oYTynPPUSBzn"
      },
      "source": [
        "Eval ML Library will do all the pre processing techniques for us and split the data for us"
      ]
    },
    {
      "cell_type": "code",
      "execution_count": null,
      "id": "FMWaa8NaRLc8",
      "metadata": {
        "id": "FMWaa8NaRLc8"
      },
      "outputs": [],
      "source": [
        "X_train, X_test, y_train, y_test = evalml.preprocessing.split_data(x, y, problem_type='binary')"
      ]
    },
    {
      "cell_type": "markdown",
      "id": "1X80ucL6S-VA",
      "metadata": {
        "id": "1X80ucL6S-VA"
      },
      "source": [
        "There are different problem type parameters in Eval ML, we have a Binary type problem here, that's why we are using Binary as a input"
      ]
    },
    {
      "cell_type": "code",
      "execution_count": null,
      "id": "juaecBvqRNIO",
      "metadata": {
        "colab": {
          "base_uri": "https://localhost:8080/"
        },
        "id": "juaecBvqRNIO",
        "outputId": "625b62b1-04d7-4fb1-d930-ec44876e01d3"
      },
      "outputs": [],
      "source": [
        "evalml.problem_types.ProblemTypes.all_problem_types"
      ]
    },
    {
      "cell_type": "markdown",
      "id": "jkO8WN3bTSS4",
      "metadata": {
        "id": "jkO8WN3bTSS4"
      },
      "source": [
        "**Running the Auto ML to select best Algorithm**"
      ]
    },
    {
      "cell_type": "code",
      "execution_count": null,
      "id": "VBtvNqdISvU4",
      "metadata": {
        "colab": {
          "base_uri": "https://localhost:8080/",
          "height": 1000,
          "referenced_widgets": [
            "9d605e10c480469c8954d7dc2c8506a2"
          ]
        },
        "id": "VBtvNqdISvU4",
        "outputId": "bc909f3f-34f0-4b98-ce08-5f37b21ef849"
      },
      "outputs": [],
      "source": [
        "from evalml.automl import AutoMLSearch\n",
        "automl = AutoMLSearch(X_train=X_train, y_train=y_train, problem_type='binary')\n",
        "automl.search()"
      ]
    },
    {
      "cell_type": "markdown",
      "id": "Y-yqkRHQVj_N",
      "metadata": {
        "id": "Y-yqkRHQVj_N"
      },
      "source": [
        "As we see from the above output thge Auto ML Classifier has given us the best fit Algorithm which is Extra Trees Classifier with Imputer\n",
        "We can also commpare the rest of the models"
      ]
    },
    {
      "cell_type": "code",
      "execution_count": null,
      "id": "D2viEAbrVx4K",
      "metadata": {
        "colab": {
          "base_uri": "https://localhost:8080/",
          "height": 494
        },
        "id": "D2viEAbrVx4K",
        "outputId": "74e62e18-45c3-4d36-f521-8864ecf81b8f"
      },
      "outputs": [],
      "source": [
        "\n",
        "automl.rankings\n"
      ]
    },
    {
      "cell_type": "code",
      "execution_count": null,
      "id": "yB3uCa0vV_wE",
      "metadata": {
        "colab": {
          "base_uri": "https://localhost:8080/"
        },
        "id": "yB3uCa0vV_wE",
        "outputId": "866178fa-88d1-4e07-9ffe-d65662e0f642"
      },
      "outputs": [],
      "source": [
        "automl.best_pipeline"
      ]
    },
    {
      "cell_type": "code",
      "execution_count": null,
      "id": "iudTbQ9BWIxC",
      "metadata": {
        "id": "iudTbQ9BWIxC"
      },
      "outputs": [],
      "source": [
        "best_pipeline=automl.best_pipeline"
      ]
    },
    {
      "cell_type": "markdown",
      "id": "VRjmM8c5WXL8",
      "metadata": {
        "id": "VRjmM8c5WXL8"
      },
      "source": [
        "We can have a Detailed description of our Best Selected Model"
      ]
    },
    {
      "cell_type": "code",
      "execution_count": null,
      "id": "1CAStOLgWTTt",
      "metadata": {
        "colab": {
          "base_uri": "https://localhost:8080/"
        },
        "id": "1CAStOLgWTTt",
        "outputId": "6dddd962-1261-45d8-a2e4-ecf416bfd2bf"
      },
      "outputs": [],
      "source": [
        "automl.describe_pipeline(automl.rankings.iloc[0][\"id\"])"
      ]
    },
    {
      "cell_type": "code",
      "execution_count": null,
      "id": "_rEhoD_3WeVf",
      "metadata": {
        "colab": {
          "base_uri": "https://localhost:8080/"
        },
        "id": "_rEhoD_3WeVf",
        "outputId": "d40107e0-2858-4eb5-95a9-413ba0a7a6cb"
      },
      "outputs": [],
      "source": [
        "best_pipeline.score(X_test, y_test, objectives=[\"auc\",\"f1\",\"Precision\",\"Recall\"])"
      ]
    },
    {
      "cell_type": "markdown",
      "id": "xh42WqZ6Wx8S",
      "metadata": {
        "id": "xh42WqZ6Wx8S"
      },
      "source": [
        "Now if we want to build our Model for a specific objective we can do that "
      ]
    },
    {
      "cell_type": "code",
      "execution_count": null,
      "id": "qhfjc9HIWmV4",
      "metadata": {
        "colab": {
          "base_uri": "https://localhost:8080/",
          "height": 1000,
          "referenced_widgets": [
            "2ae5f2acc4e2423b8fbfb0d6e97f8506"
          ]
        },
        "id": "qhfjc9HIWmV4",
        "outputId": "b10e13bd-f291-4510-dcfc-207c9abef3be"
      },
      "outputs": [],
      "source": [
        "automl_auc = AutoMLSearch(X_train=X_train, y_train=y_train,\n",
        "                          problem_type='binary',\n",
        "                          objective='auc',\n",
        "                          additional_objectives=['f1', 'precision'],\n",
        "                          max_batches=1,\n",
        "                          optimize_thresholds=True)\n",
        "\n",
        "automl_auc.search()"
      ]
    },
    {
      "cell_type": "code",
      "execution_count": null,
      "id": "t_9qjSt-XD6B",
      "metadata": {
        "colab": {
          "base_uri": "https://localhost:8080/",
          "height": 494
        },
        "id": "t_9qjSt-XD6B",
        "outputId": "31357eab-a2a2-4b9f-aa70-a4dc9d317339"
      },
      "outputs": [],
      "source": [
        "automl_auc.rankings"
      ]
    },
    {
      "cell_type": "code",
      "execution_count": null,
      "id": "TH-FlIARXEW-",
      "metadata": {
        "colab": {
          "base_uri": "https://localhost:8080/"
        },
        "id": "TH-FlIARXEW-",
        "outputId": "6229d80a-5991-4ef5-9a06-ff6134add7af"
      },
      "outputs": [],
      "source": [
        "automl_auc.describe_pipeline(automl_auc.rankings.iloc[0][\"id\"])"
      ]
    },
    {
      "cell_type": "code",
      "execution_count": null,
      "id": "b1wGri8TXZeQ",
      "metadata": {
        "id": "b1wGri8TXZeQ"
      },
      "outputs": [],
      "source": [
        "best_pipeline_auc = automl_auc.best_pipeline\n"
      ]
    },
    {
      "cell_type": "code",
      "execution_count": null,
      "id": "54h-Baa9XK-O",
      "metadata": {
        "colab": {
          "base_uri": "https://localhost:8080/"
        },
        "id": "54h-Baa9XK-O",
        "outputId": "abbd810b-0649-4f01-ab3d-2058a29568ce"
      },
      "outputs": [],
      "source": [
        "\n",
        "# get the score on holdout data\n",
        "best_pipeline_auc.score(X_test, y_test,  objectives=[\"auc\"])"
      ]
    },
    {
      "cell_type": "markdown",
      "id": "Pg7y2nmMXclD",
      "metadata": {
        "id": "Pg7y2nmMXclD"
      },
      "source": [
        "We got an 88.5 % AUC Score which is the highest of all"
      ]
    },
    {
      "cell_type": "markdown",
      "id": "aRxjGGYFXph4",
      "metadata": {
        "id": "aRxjGGYFXph4"
      },
      "source": [
        "Save the model"
      ]
    },
    {
      "cell_type": "code",
      "execution_count": null,
      "id": "w33nw9rdXh8o",
      "metadata": {
        "id": "w33nw9rdXh8o"
      },
      "outputs": [],
      "source": [
        "best_pipeline.save(\"model.pkl\")"
      ]
    },
    {
      "cell_type": "markdown",
      "id": "0Axq_oghX11b",
      "metadata": {
        "id": "0Axq_oghX11b"
      },
      "source": [
        "Loading our Model"
      ]
    },
    {
      "cell_type": "code",
      "execution_count": null,
      "id": "BBoBF8ExX1Xj",
      "metadata": {
        "id": "BBoBF8ExX1Xj"
      },
      "outputs": [],
      "source": [
        "\n",
        "final_model=automl.load('model.pkl')"
      ]
    },
    {
      "cell_type": "code",
      "execution_count": null,
      "id": "KGRC-26vXqyy",
      "metadata": {
        "colab": {
          "base_uri": "https://localhost:8080/",
          "height": 417
        },
        "id": "KGRC-26vXqyy",
        "outputId": "3cacd929-8b89-4d45-c424-fe1d80c049e0"
      },
      "outputs": [],
      "source": [
        "final_model.predict_proba(X_test)"
      ]
    },
    {
      "cell_type": "code",
      "execution_count": null,
      "id": "z9YhBxmqX68S",
      "metadata": {
        "id": "z9YhBxmqX68S"
      },
      "outputs": [],
      "source": []
    }
  ],
  "metadata": {
    "colab": {
      "collapsed_sections": [
        "ba18baf7",
        "6fd43730",
        "963be798",
        "e1489812",
        "f4760e8d",
        "76198812",
        "39fe4f60",
        "9ac104d5",
        "810f1fb1",
        "7738dab8",
        "7056e4f2",
        "53e36955",
        "e2b7fc19",
        "5a233fd3"
      ],
      "name": "Heart Attack Risk Predictor.ipynb",
      "provenance": []
    },
    "kernelspec": {
      "display_name": "Python 3",
      "language": "python",
      "name": "python3"
    },
    "language_info": {
      "codemirror_mode": {
        "name": "ipython",
        "version": 3
      },
      "file_extension": ".py",
      "mimetype": "text/x-python",
      "name": "python",
      "nbconvert_exporter": "python",
      "pygments_lexer": "ipython3",
      "version": "3.8.8"
    },
    "widgets": {
      "application/vnd.jupyter.widget-state+json": {
        "2ae5f2acc4e2423b8fbfb0d6e97f8506": {
          "model_module": "jupyterlab-plotly",
          "model_module_version": "^5.2.1",
          "model_name": "FigureModel",
          "state": {
            "_config": {
              "plotlyServerURL": "https://plot.ly"
            },
            "_data": [
              {
                "mode": "lines+markers",
                "name": "Best Score",
                "type": "scatter",
                "uid": "d623968d-9bdd-469f-acd5-e5d6bb7d3253",
                "x": [],
                "y": []
              },
              {
                "marker": {
                  "color": "gray"
                },
                "mode": "markers",
                "name": "Iter score",
                "type": "scatter",
                "uid": "274f708e-8a83-40a4-8ee7-6434bae6ae66",
                "x": [],
                "y": []
              }
            ],
            "_dom_classes": [],
            "_js2py_layoutDelta": {},
            "_js2py_pointsCallback": {},
            "_js2py_relayout": {},
            "_js2py_restyle": {},
            "_js2py_traceDeltas": {},
            "_js2py_update": {},
            "_last_layout_edit_id": 37,
            "_last_trace_edit_id": 37,
            "_layout": {
              "title": {
                "text": "Pipeline Search: Iteration vs. AUC<br><sub>Gray marker indicates the score at current iteration</sub>"
              },
              "xaxis": {
                "rangemode": "tozero",
                "title": {
                  "text": "Iteration"
                }
              },
              "yaxis": {
                "title": {
                  "text": "Score"
                }
              }
            },
            "_model_module": "jupyterlab-plotly",
            "_model_module_version": "^5.2.1",
            "_model_name": "FigureModel",
            "_py2js_addTraces": {},
            "_py2js_animate": {},
            "_py2js_deleteTraces": {},
            "_py2js_moveTraces": {},
            "_py2js_relayout": null,
            "_py2js_removeLayoutProps": {},
            "_py2js_removeTraceProps": {},
            "_py2js_restyle": null,
            "_py2js_update": null,
            "_view_count": 0,
            "_view_module": "jupyterlab-plotly",
            "_view_module_version": "^5.2.1",
            "_view_name": "FigureView"
          }
        },
        "9d605e10c480469c8954d7dc2c8506a2": {
          "model_module": "jupyterlab-plotly",
          "model_module_version": "^5.2.1",
          "model_name": "FigureModel",
          "state": {
            "_config": {
              "plotlyServerURL": "https://plot.ly"
            },
            "_data": [
              {
                "mode": "lines+markers",
                "name": "Best Score",
                "type": "scatter",
                "uid": "ad36a807-0611-4002-8a95-600b8807d702",
                "x": [],
                "y": []
              },
              {
                "marker": {
                  "color": "gray"
                },
                "mode": "markers",
                "name": "Iter score",
                "type": "scatter",
                "uid": "5f03bb14-a8b8-4964-9a85-b568741c3cc0",
                "x": [],
                "y": []
              }
            ],
            "_dom_classes": [],
            "_js2py_layoutDelta": {},
            "_js2py_pointsCallback": {},
            "_js2py_relayout": {},
            "_js2py_restyle": {},
            "_js2py_traceDeltas": {},
            "_js2py_update": {},
            "_last_layout_edit_id": 37,
            "_last_trace_edit_id": 37,
            "_layout": {
              "title": {
                "text": "Pipeline Search: Iteration vs. Log Loss Binary<br><sub>Gray marker indicates the score at current iteration</sub>"
              },
              "xaxis": {
                "rangemode": "tozero",
                "title": {
                  "text": "Iteration"
                }
              },
              "yaxis": {
                "title": {
                  "text": "Score"
                }
              }
            },
            "_model_module": "jupyterlab-plotly",
            "_model_module_version": "^5.2.1",
            "_model_name": "FigureModel",
            "_py2js_addTraces": {},
            "_py2js_animate": {},
            "_py2js_deleteTraces": {},
            "_py2js_moveTraces": {},
            "_py2js_relayout": null,
            "_py2js_removeLayoutProps": {},
            "_py2js_removeTraceProps": {},
            "_py2js_restyle": null,
            "_py2js_update": null,
            "_view_count": 0,
            "_view_module": "jupyterlab-plotly",
            "_view_module_version": "^5.2.1",
            "_view_name": "FigureView"
          }
        }
      }
    }
  },
  "nbformat": 4,
  "nbformat_minor": 5
}
